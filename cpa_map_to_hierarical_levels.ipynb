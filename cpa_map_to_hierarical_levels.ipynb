{
 "cells": [
  {
   "cell_type": "markdown",
   "metadata": {},
   "source": [
    "# CPA Mappings"
   ]
  },
  {
   "cell_type": "markdown",
   "metadata": {},
   "source": [
    "Produced by Elias Kellow"
   ]
  },
  {
   "cell_type": "markdown",
   "metadata": {},
   "source": [
    "## 1.0 Introduction"
   ]
  },
  {
   "cell_type": "markdown",
   "metadata": {},
   "source": [
    "So the work you did with the CPA classification \n",
    "\n",
    "This work was undertaken as the current Producer prices system has products based on CPA 2008,  this means that they are 1 or 2 digit levels e.g 01 or 20.5,   The new Producer Prices Chain Linked system is using the National Accounts accepted standard CPA product codes,  i.e CPA_A01 or CPA_C205.   However this classification was also provided with higher product level to 6 digit products and therefore we needed a way to apply the correct Child code to its parent code for all letter industries A to U, using the supplied level spreadsheet from prices division . \n"
   ]
  },
  {
   "cell_type": "markdown",
   "metadata": {},
   "source": [
    "## 2.0 Synopsis"
   ]
  },
  {
   "cell_type": "markdown",
   "metadata": {},
   "source": [
    "Read the file 'raw_data_cpa_code.xlsx' that has the CPA codes and 'CPA descriptions.' Read the file 'raw_data_hierarchies.xlsx' which has the hierarchical levels, and **'short codes'** are derived from this file. Both files have been processed and this allows them to be joined using short codes (how short codes are derived is decribed below). Thus, CPA codes and descriptions are linked with hierarchical levels, and they are linked with CPA parent codes. In the file 'raw_data_cpa_code.xlsx' strings have been split on ':' where everything before is the CPA code and everyhting after is the 'CPA description.' The CPA code has been split further to get a short code which is used to link with the other file called 'raw_data_hierarchies.xlsx.' Also, the CPA parent code has been associated with the relevant CPA code. Thus, the final table relates the description, CPA code, short code and hierarchies. "
   ]
  },
  {
   "cell_type": "markdown",
   "metadata": {},
   "source": [
    "## 3.0 Processing"
   ]
  },
  {
   "cell_type": "markdown",
   "metadata": {},
   "source": [
    "### 3.1 Aim: Read 'raw_data_cpa_code.xlsx' and get 'cp code,' 'cp description' and derive 'short code.'"
   ]
  },
  {
   "cell_type": "markdown",
   "metadata": {},
   "source": [
    "Goal: Select specific rows of the file raw_data_cpa_code.xlsx, get the **cp code**, **cp description** **short code**(after the first four digits of the cp code).\n",
    "\n",
    "\n",
    "Here's the code to read the file 'raw_data_cpa_code.xlsx,' and put into a dataframe called **df_products**; then select rows 4 to 5528 and the last 4 rows of **df_products**; place the selected rows into two seperate dataframes; append these dataframes together.  In this appended dataframe, split the column into two columns using ':', where the new column called 'cp.code' is the **CP code** and 'cp.desc' is the **CP Description**.  Then, split the column 'cp.code' to get the **short code**."
   ]
  },
  {
   "cell_type": "code",
   "execution_count": 1,
   "metadata": {},
   "outputs": [
    {
     "data": {
      "text/html": [
       "<div>\n",
       "<style>\n",
       "    .dataframe thead tr:only-child th {\n",
       "        text-align: right;\n",
       "    }\n",
       "\n",
       "    .dataframe thead th {\n",
       "        text-align: left;\n",
       "    }\n",
       "\n",
       "    .dataframe tbody tr th {\n",
       "        vertical-align: top;\n",
       "    }\n",
       "</style>\n",
       "<table border=\"1\" class=\"dataframe\">\n",
       "  <thead>\n",
       "    <tr style=\"text-align: right;\">\n",
       "      <th></th>\n",
       "      <th>code</th>\n",
       "      <th>cp.code</th>\n",
       "      <th>cp.desc</th>\n",
       "      <th>cp.code.2</th>\n",
       "      <th>cpa</th>\n",
       "      <th>short.code</th>\n",
       "    </tr>\n",
       "  </thead>\n",
       "  <tbody>\n",
       "    <tr>\n",
       "      <th>5554</th>\n",
       "      <td>TOTAL: TOTAL</td>\n",
       "      <td>TOTAL</td>\n",
       "      <td>TOTAL</td>\n",
       "      <td>TOTAL</td>\n",
       "      <td>TOTAL</td>\n",
       "      <td>TOTAL</td>\n",
       "    </tr>\n",
       "    <tr>\n",
       "      <th>5555</th>\n",
       "      <td>CPA_A: Products of agriculture, forestry a...</td>\n",
       "      <td>CPA_A</td>\n",
       "      <td>Products of agriculture, forestry and fishing</td>\n",
       "      <td>CPA_A</td>\n",
       "      <td>CPA</td>\n",
       "      <td>A</td>\n",
       "    </tr>\n",
       "    <tr>\n",
       "      <th>5556</th>\n",
       "      <td>CPA_A01: Products of agriculture, hunt...</td>\n",
       "      <td>CPA_A01</td>\n",
       "      <td>Products of agriculture, hunting and related ...</td>\n",
       "      <td>CPA_A01</td>\n",
       "      <td>CPA</td>\n",
       "      <td>A01</td>\n",
       "    </tr>\n",
       "    <tr>\n",
       "      <th>5557</th>\n",
       "      <td>CPA_B: Mining and quarrying</td>\n",
       "      <td>CPA_B</td>\n",
       "      <td>Mining and quarrying</td>\n",
       "      <td>CPA_B</td>\n",
       "      <td>CPA</td>\n",
       "      <td>B</td>\n",
       "    </tr>\n",
       "    <tr>\n",
       "      <th>5558</th>\n",
       "      <td>CPA_C: Manufactured products</td>\n",
       "      <td>CPA_C</td>\n",
       "      <td>Manufactured products</td>\n",
       "      <td>CPA_C</td>\n",
       "      <td>CPA</td>\n",
       "      <td>C</td>\n",
       "    </tr>\n",
       "  </tbody>\n",
       "</table>\n",
       "</div>"
      ],
      "text/plain": [
       "                                                   code          cp.code  \\\n",
       "5554                                       TOTAL: TOTAL            TOTAL   \n",
       "5555      CPA_A: Products of agriculture, forestry a...            CPA_A   \n",
       "5556          CPA_A01: Products of agriculture, hunt...          CPA_A01   \n",
       "5557                        CPA_B: Mining and quarrying            CPA_B   \n",
       "5558                       CPA_C: Manufactured products            CPA_C   \n",
       "\n",
       "                                                cp.desc        cp.code.2  \\\n",
       "5554                                              TOTAL            TOTAL   \n",
       "5555      Products of agriculture, forestry and fishing            CPA_A   \n",
       "5556   Products of agriculture, hunting and related ...          CPA_A01   \n",
       "5557                               Mining and quarrying            CPA_B   \n",
       "5558                              Manufactured products            CPA_C   \n",
       "\n",
       "              cpa short.code  \n",
       "5554        TOTAL      TOTAL  \n",
       "5555          CPA          A  \n",
       "5556          CPA        A01  \n",
       "5557          CPA          B  \n",
       "5558          CPA          C  "
      ]
     },
     "execution_count": 1,
     "metadata": {},
     "output_type": "execute_result"
    }
   ],
   "source": [
    "#aim is to get a list of codes\n",
    "#step 1 - import pandas\n",
    "import pandas as pd\n",
    "\n",
    "#step 2 - read excel file from sheet1, and create names 'level' and 'code,' with no header\n",
    "data_sht1 = pd.read_excel(r'raw_data_cpa_code.xlsx', 'Sheet1', header=None, names=['level', 'code'])\n",
    "#step 3 - put the data into a dataframe with column named PROD\n",
    "df_products = pd.DataFrame(data_sht1, columns=['code'])\n",
    "\n",
    "#step 4 - select rows 4 to 5528 of the dataframe\n",
    "df_products_begin = df_products[3:5527]\n",
    "\n",
    "#step 5 - select the last four rows of the dataframe\n",
    "df_products_end = df_products[5554:]\n",
    "\n",
    "#step 6 - append the dataframes together\n",
    "df_products_total = df_products_begin.append(df_products_end)\n",
    "\n",
    "#step 7 - split the column 'code' into two using the delimeter ':'\n",
    "df_products_total['cp.code'], df_products_total['cp.desc'] = df_products_total['code'].str.split(':', 1).str\n",
    "\n",
    "#aim is to split the cp code to get the short code form\n",
    "#step 8 - create a new column cp.code.2 so that it can be slit to get the 'short.code'\n",
    "\n",
    "df_products_total['cp.code.2']=df_products_total['cp.code']\n",
    "\n",
    "\n",
    "#step 7 - split the column 'code' into two using the delimeter ':'\n",
    "df_products_total['cpa'], df_products_total['short.code'] = df_products_total['cp.code.2'].str.split('_', 1).str\n",
    "\n",
    "#step 8 - insert 'TOTAL' into the column 'short.code' for the index row 5554\n",
    "df_products_total.loc[5554, 'short.code'] = 'TOTAL'\n",
    "\n",
    "\n",
    "#step 9 - remove duplicates of the column\n",
    "df_products_total.drop_duplicates('short.code', keep='last', inplace=True)\n",
    "\n",
    "#step 10 - remove trailing and leading white spaces for all rows of the dataframe df_products_total\n",
    "\n",
    "df_products_total.columns = df_products_total.columns.str.strip()\n",
    "df_products_total.tail()\n",
    "#print(len(df_products_total))"
   ]
  },
  {
   "cell_type": "markdown",
   "metadata": {},
   "source": [
    "### 3.2 Aim: Read the file 'raw_data_hierarchies.xlsx and process the file so that It can be joined with data from the file 'raw_data_cpa_code.xlsx'"
   ]
  },
  {
   "cell_type": "markdown",
   "metadata": {},
   "source": [
    "Here is the code to read the file **'raw_data_hierarchies.xlsx**,' **remove duplicates** of the column 'codes.' Here's Remove white leading and tailing spaces in order to do a join later."
   ]
  },
  {
   "cell_type": "code",
   "execution_count": 2,
   "metadata": {},
   "outputs": [
    {
     "data": {
      "text/html": [
       "<div>\n",
       "<style>\n",
       "    .dataframe thead tr:only-child th {\n",
       "        text-align: right;\n",
       "    }\n",
       "\n",
       "    .dataframe thead th {\n",
       "        text-align: left;\n",
       "    }\n",
       "\n",
       "    .dataframe tbody tr th {\n",
       "        vertical-align: top;\n",
       "    }\n",
       "</style>\n",
       "<table border=\"1\" class=\"dataframe\">\n",
       "  <thead>\n",
       "    <tr style=\"text-align: right;\">\n",
       "      <th></th>\n",
       "      <th>codes</th>\n",
       "      <th>CPA2008</th>\n",
       "      <th>hierarchy</th>\n",
       "      <th>CPA2008-LEVEL</th>\n",
       "      <th>CPA2.1-4D</th>\n",
       "      <th>CPA2008-4D</th>\n",
       "      <th>DIFFERENT?</th>\n",
       "    </tr>\n",
       "  </thead>\n",
       "  <tbody>\n",
       "    <tr>\n",
       "      <th>0</th>\n",
       "      <td>A</td>\n",
       "      <td>A</td>\n",
       "      <td>1</td>\n",
       "      <td>1</td>\n",
       "      <td>A</td>\n",
       "      <td>A</td>\n",
       "      <td>SAME</td>\n",
       "    </tr>\n",
       "    <tr>\n",
       "      <th>1</th>\n",
       "      <td>01</td>\n",
       "      <td>01</td>\n",
       "      <td>2</td>\n",
       "      <td>2</td>\n",
       "      <td>01</td>\n",
       "      <td>01</td>\n",
       "      <td>SAME</td>\n",
       "    </tr>\n",
       "    <tr>\n",
       "      <th>2</th>\n",
       "      <td>01.1</td>\n",
       "      <td>01.1</td>\n",
       "      <td>3</td>\n",
       "      <td>3</td>\n",
       "      <td>01.1</td>\n",
       "      <td>01.1</td>\n",
       "      <td>SAME</td>\n",
       "    </tr>\n",
       "    <tr>\n",
       "      <th>3</th>\n",
       "      <td>01.11</td>\n",
       "      <td>01.11</td>\n",
       "      <td>4</td>\n",
       "      <td>4</td>\n",
       "      <td>01.11</td>\n",
       "      <td>01.11</td>\n",
       "      <td>SAME</td>\n",
       "    </tr>\n",
       "    <tr>\n",
       "      <th>4</th>\n",
       "      <td>01.11.1</td>\n",
       "      <td>01.11.1</td>\n",
       "      <td>5</td>\n",
       "      <td>5</td>\n",
       "      <td>01.11</td>\n",
       "      <td>01.11</td>\n",
       "      <td>SAME</td>\n",
       "    </tr>\n",
       "  </tbody>\n",
       "</table>\n",
       "</div>"
      ],
      "text/plain": [
       "     codes  CPA2008  hierarchy  CPA2008-LEVEL CPA2.1-4D CPA2008-4D DIFFERENT?\n",
       "0        A        A          1              1         A          A       SAME\n",
       "1       01       01          2              2        01         01       SAME\n",
       "2     01.1     01.1          3              3      01.1       01.1       SAME\n",
       "3    01.11    01.11          4              4     01.11      01.11       SAME\n",
       "4  01.11.1  01.11.1          5              5     01.11      01.11       SAME"
      ]
     },
     "execution_count": 2,
     "metadata": {},
     "output_type": "execute_result"
    }
   ],
   "source": [
    "#step 10 - read excel file - raw_data_hierarchies - from the sheet called 'CPA 2.1 - CPA 2008_20191011_152', \n",
    "#where the first row is the header\n",
    "\n",
    "data_sht2 = pd.read_excel(r'raw_data_hierarchies.xlsx', 'CPA 2.1 - CPA 2008_20191011_152',header=0)\n",
    "#step 11 - put the csv file into a dataframe, and rename columns\n",
    "df_parents = pd.DataFrame(data_sht2).rename(columns ={'CPA2.1':'codes', 'CPA2.1-LEVEL':'hierarchy'})\n",
    "\n",
    "#step 13 - remove duplicate row based on the column codes\n",
    "df_parents.drop_duplicates(subset='codes', keep=\"last\", inplace=True)\n",
    "\n",
    "#step 14 - remove trailing and leading white spaces\n",
    "\n",
    "df_parents.columns = df_parents.columns.str.strip()\n",
    "\n",
    "df_parents.head()\n",
    "#print(len(df_parents))"
   ]
  },
  {
   "cell_type": "markdown",
   "metadata": {
    "collapsed": true
   },
   "source": [
    "Here the code removes '.' for each row in the column called 'codes,'  and concatenates/places in front each code in the list code_2 with its parent.  For example, 'A' and '01' are concatenated together to produce 'A01'. Another example is 'A' and '011' are concatenated to produce 'A011'."
   ]
  },
  {
   "cell_type": "code",
   "execution_count": 3,
   "metadata": {},
   "outputs": [
    {
     "data": {
      "text/html": [
       "<div>\n",
       "<style>\n",
       "    .dataframe thead tr:only-child th {\n",
       "        text-align: right;\n",
       "    }\n",
       "\n",
       "    .dataframe thead th {\n",
       "        text-align: left;\n",
       "    }\n",
       "\n",
       "    .dataframe tbody tr th {\n",
       "        vertical-align: top;\n",
       "    }\n",
       "</style>\n",
       "<table border=\"1\" class=\"dataframe\">\n",
       "  <thead>\n",
       "    <tr style=\"text-align: right;\">\n",
       "      <th></th>\n",
       "      <th>codes</th>\n",
       "      <th>CPA2008</th>\n",
       "      <th>hierarchy</th>\n",
       "      <th>CPA2008-LEVEL</th>\n",
       "      <th>CPA2.1-4D</th>\n",
       "      <th>CPA2008-4D</th>\n",
       "      <th>DIFFERENT?</th>\n",
       "      <th>temp.parent</th>\n",
       "      <th>short.code</th>\n",
       "    </tr>\n",
       "  </thead>\n",
       "  <tbody>\n",
       "    <tr>\n",
       "      <th>0</th>\n",
       "      <td>A</td>\n",
       "      <td>A</td>\n",
       "      <td>1</td>\n",
       "      <td>1</td>\n",
       "      <td>A</td>\n",
       "      <td>A</td>\n",
       "      <td>SAME</td>\n",
       "      <td>A</td>\n",
       "      <td>A</td>\n",
       "    </tr>\n",
       "    <tr>\n",
       "      <th>1</th>\n",
       "      <td>01</td>\n",
       "      <td>01</td>\n",
       "      <td>2</td>\n",
       "      <td>2</td>\n",
       "      <td>01</td>\n",
       "      <td>01</td>\n",
       "      <td>SAME</td>\n",
       "      <td>A</td>\n",
       "      <td>A01</td>\n",
       "    </tr>\n",
       "    <tr>\n",
       "      <th>2</th>\n",
       "      <td>011</td>\n",
       "      <td>01.1</td>\n",
       "      <td>3</td>\n",
       "      <td>3</td>\n",
       "      <td>01.1</td>\n",
       "      <td>01.1</td>\n",
       "      <td>SAME</td>\n",
       "      <td>A</td>\n",
       "      <td>A011</td>\n",
       "    </tr>\n",
       "    <tr>\n",
       "      <th>3</th>\n",
       "      <td>0111</td>\n",
       "      <td>01.11</td>\n",
       "      <td>4</td>\n",
       "      <td>4</td>\n",
       "      <td>01.11</td>\n",
       "      <td>01.11</td>\n",
       "      <td>SAME</td>\n",
       "      <td>A</td>\n",
       "      <td>A0111</td>\n",
       "    </tr>\n",
       "    <tr>\n",
       "      <th>4</th>\n",
       "      <td>01111</td>\n",
       "      <td>01.11.1</td>\n",
       "      <td>5</td>\n",
       "      <td>5</td>\n",
       "      <td>01.11</td>\n",
       "      <td>01.11</td>\n",
       "      <td>SAME</td>\n",
       "      <td>A</td>\n",
       "      <td>A01111</td>\n",
       "    </tr>\n",
       "  </tbody>\n",
       "</table>\n",
       "</div>"
      ],
      "text/plain": [
       "   codes  CPA2008  hierarchy  CPA2008-LEVEL CPA2.1-4D CPA2008-4D DIFFERENT?  \\\n",
       "0      A        A          1              1         A          A       SAME   \n",
       "1     01       01          2              2        01         01       SAME   \n",
       "2    011     01.1          3              3      01.1       01.1       SAME   \n",
       "3   0111    01.11          4              4     01.11      01.11       SAME   \n",
       "4  01111  01.11.1          5              5     01.11      01.11       SAME   \n",
       "\n",
       "  temp.parent short.code  \n",
       "0           A          A  \n",
       "1           A        A01  \n",
       "2           A       A011  \n",
       "3           A      A0111  \n",
       "4           A     A01111  "
      ]
     },
     "execution_count": 3,
     "metadata": {},
     "output_type": "execute_result"
    }
   ],
   "source": [
    "#step 14 - remove '.' from the column codes\n",
    "df_parents['codes']=df_parents['codes'].replace({'\\.':''}, regex=True)\n",
    "\n",
    "\n",
    "#step 15 - create a function where -concerning the column codes in the file 'raw_data_hierarchies.xlsx' - if the \n",
    "#length of a value of row one, then paste that value into the column 'temp.parent,' otherwise paste None.\n",
    "\n",
    "def parent_row (row):\n",
    "    if len(row['codes'])==1:\n",
    "        return row['codes']\n",
    "    if len(row['codes'])>1:\n",
    "        return None\n",
    "\n",
    "#step 16 - apply the function 'parent_row' for each row, then remove\n",
    "\n",
    "df_parents['temp.parent']=df_parents.apply(lambda row:parent_row(row), axis=1).fillna(method='ffill')\n",
    "\n",
    "\n",
    "#step 17 - create a function where - concerning the column codes in the dataframe df_parents - if the \n",
    "#length of a value of row one, then paste that value into the column 'short.code,', otherwise concatenate the respective \n",
    "#value of the column 'temp.parent' and 'codes'. e.g. A and 01 are concenated to produce A01, because the length\n",
    "# of 01 is greater than one.\n",
    "def concat_row (row):\n",
    "    if len(row['codes'])==1:\n",
    "        return row['codes']\n",
    "    if len(row['codes'])>1:\n",
    "        return row['temp.parent']+row['codes']\n",
    "\n",
    "#step 16 - apply the function 'parent_row' for each row, then remove\n",
    "\n",
    "df_parents['short.code']=df_parents.apply(lambda row:concat_row(row), axis=1)\n",
    "\n",
    "#step 17 - create a function\n",
    "df_parents.head()"
   ]
  },
  {
   "cell_type": "markdown",
   "metadata": {},
   "source": [
    "### 3.3 Aim: Link hierarchies with CPA codes"
   ]
  },
  {
   "cell_type": "markdown",
   "metadata": {},
   "source": [
    "Here's the code that links heirarchical levels and CPA codes by joining the data from the file 'raw_data_cpa_code.xlsx' and 'raw_data_hierarchies.xlsx', i.e. join the dataframe df_parents and df_products_total using the column 'short.code.'  Also, find the parent CPA code using a function parent_code."
   ]
  },
  {
   "cell_type": "code",
   "execution_count": 4,
   "metadata": {
    "collapsed": true
   },
   "outputs": [],
   "source": [
    "#step 17 - remove trailing and leading white spaces for all rows in the dataframe df_parents\n",
    "\n",
    "df_parents.columns = df_parents.columns.str.strip()\n",
    "\n",
    "#step 18 - join the dataframe df_products_total and df_parents using the column 'short.code'\n",
    "df_joined = df_products_total.merge(df_parents, on = 'short.code', how = 'inner')\n",
    "#print(len(df_products_total))\n",
    "#print(len(df_parents))\n",
    "#print(len(df_joined))\n",
    "\n",
    "df_joined.columns = df_joined.columns.str.strip()\n",
    "\n",
    "#step 17 - create a function finds the parent cpa code\n",
    "def cpa_parent_row (row):\n",
    "    if len(row['short.code'])==1:\n",
    "        \n",
    "        return 'TOTAL'\n",
    "    \n",
    "    if len(row['short.code'])==3:\n",
    "        \n",
    "        return row['cp.code'][:-2]\n",
    "    \n",
    "    if len(row['short.code'])>3:\n",
    "        \n",
    "        return row['cp.code'][:-1]\n",
    "\n",
    "#step 16 - apply the function 'parent_row' for each row, then remove\n",
    "\n",
    "df_joined['parent.cpa']=df_joined.apply(lambda row:cpa_parent_row(row), axis=1)\n",
    "\n",
    "df_cpa_map=df_joined[['cp.code', 'cp.desc', 'hierarchy', 'parent.cpa', 'short.code']]\n",
    "df_cpa_map.tail()\n",
    "\n",
    "df_cpa_map.to_excel('hierarchy5.xlsx', index=None)\n",
    "#print(len('CPA_A'))"
   ]
  },
  {
   "cell_type": "markdown",
   "metadata": {
    "collapsed": true
   },
   "source": [
    "# 4.0 Data Quality Analysis"
   ]
  },
  {
   "cell_type": "markdown",
   "metadata": {},
   "source": [
    "Here's the code to see if they are cp codes that exist 'raw_data_cpa_code.xlsx.' The current output is **hierarchy5.xlsx** (see the previous code line above).  All previous previous cells needs to be run for the below code to work.  Also, **hierarchy5.xlsx** and this jupyter notebook has to be in the same working directory."
   ]
  },
  {
   "cell_type": "code",
   "execution_count": 50,
   "metadata": {
    "collapsed": true
   },
   "outputs": [],
   "source": [
    "#step a - read the file 'hierarchy4.xlsx\n",
    "data_sht3 = pd.read_excel(r'hierarchy5.xlsx', 'Sheet1',header=0)\n",
    "#step b - put the excel object into a dataframe and rename a column\n",
    "df_test = pd.DataFrame(data_sht3).rename(columns ={'desc':'cp.code'})\n",
    "\n",
    "\n",
    "#step c - remove trailing and leading white spaces\n",
    "\n",
    "df_test.columns = df_test.columns.str.strip()\n",
    "\n",
    "\n",
    "\n",
    "df_merge=df_test.merge(df_products_total, on = 'cp.code', how = 'right')\n",
    "\n",
    "df_not_join = df_merge[df_merge['codes'].isnull()]\n",
    "#df_merge.tail()\n",
    "#df_test.tail()\n",
    "\n",
    "#print(len(df_merge[df_merge['codes'].isnull()]))\n",
    "df_not_join.to_excel('notjoin.xlsx', index=None)"
   ]
  },
  {
   "cell_type": "markdown",
   "metadata": {},
   "source": [
    "# 5.0 Environment"
   ]
  },
  {
   "cell_type": "markdown",
   "metadata": {},
   "source": [
    "Running under: Windows 7 x64 (build 7601) Service Pack 1\n",
    "\n",
    "I was using Jupyter notebook.  The version of the notebook server is 5.0.0 and is running on:\n",
    "\n",
    "- Python 3.6.1 |Anaconda 4.4.0 (64-bit)| (default, May 11 2017, 13:25:24) [MSC v.1900 64 bit (AMD64)]\n",
    "    \n"
   ]
  },
  {
   "cell_type": "code",
   "execution_count": 37,
   "metadata": {},
   "outputs": [
    {
     "name": "stdout",
     "output_type": "stream",
     "text": [
      "5529\n"
     ]
    }
   ],
   "source": [
    "print(len(df_products_total['code'].tolist()))"
   ]
  }
 ],
 "metadata": {
  "kernelspec": {
   "display_name": "Python 3",
   "language": "python",
   "name": "python3"
  },
  "language_info": {
   "codemirror_mode": {
    "name": "ipython",
    "version": 3
   },
   "file_extension": ".py",
   "mimetype": "text/x-python",
   "name": "python",
   "nbconvert_exporter": "python",
   "pygments_lexer": "ipython3",
   "version": "3.6.1"
  }
 },
 "nbformat": 4,
 "nbformat_minor": 2
}
